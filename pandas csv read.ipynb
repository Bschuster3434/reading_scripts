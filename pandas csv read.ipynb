{
 "metadata": {
  "name": ""
 },
 "nbformat": 3,
 "nbformat_minor": 0,
 "worksheets": [
  {
   "cells": [
    {
     "cell_type": "code",
     "collapsed": false,
     "input": [
      "import pandas as pd\n",
      "import numpy as np"
     ],
     "language": "python",
     "metadata": {},
     "outputs": [],
     "prompt_number": 1
    },
    {
     "cell_type": "code",
     "collapsed": false,
     "input": [
      "file1 = 'script.csv'\n",
      "file2 = 'rotten_ids.csv'"
     ],
     "language": "python",
     "metadata": {},
     "outputs": [],
     "prompt_number": 2
    },
    {
     "cell_type": "code",
     "collapsed": false,
     "input": [
      "s_df = pd.read_csv(file1)\n",
      "r_df = pd.read_csv(file2)"
     ],
     "language": "python",
     "metadata": {},
     "outputs": [],
     "prompt_number": 3
    },
    {
     "cell_type": "code",
     "collapsed": false,
     "input": [
      "s_df"
     ],
     "language": "python",
     "metadata": {},
     "outputs": [
      {
       "html": [
        "<pre>\n",
        "&lt;class 'pandas.core.frame.DataFrame'&gt;\n",
        "Int64Index: 730 entries, 0 to 729\n",
        "Data columns (total 6 columns):\n",
        "Script_Id             730  non-null values\n",
        "Script_Title          730  non-null values\n",
        "Movie_Release_Date    519  non-null values\n",
        "Script_Date           453  non-null values\n",
        "Raw_Script_URL        730  non-null values\n",
        "Raw_Script_Loc        730  non-null values\n",
        "dtypes: int64(1), object(5)\n",
        "</pre>"
       ],
       "metadata": {},
       "output_type": "pyout",
       "prompt_number": 4,
       "text": [
        "<class 'pandas.core.frame.DataFrame'>\n",
        "Int64Index: 730 entries, 0 to 729\n",
        "Data columns (total 6 columns):\n",
        "Script_Id             730  non-null values\n",
        "Script_Title          730  non-null values\n",
        "Movie_Release_Date    519  non-null values\n",
        "Script_Date           453  non-null values\n",
        "Raw_Script_URL        730  non-null values\n",
        "Raw_Script_Loc        730  non-null values\n",
        "dtypes: int64(1), object(5)"
       ]
      }
     ],
     "prompt_number": 4
    },
    {
     "cell_type": "code",
     "collapsed": false,
     "input": [
      "s_df.head(n = 10)"
     ],
     "language": "python",
     "metadata": {},
     "outputs": [
      {
       "html": [
        "<div style=\"max-height:1000px;max-width:1500px;overflow:auto;\">\n",
        "<table border=\"1\" class=\"dataframe\">\n",
        "  <thead>\n",
        "    <tr style=\"text-align: right;\">\n",
        "      <th></th>\n",
        "      <th>Script_Id</th>\n",
        "      <th>Script_Title</th>\n",
        "      <th>Movie_Release_Date</th>\n",
        "      <th>Script_Date</th>\n",
        "      <th>Raw_Script_URL</th>\n",
        "      <th>Raw_Script_Loc</th>\n",
        "    </tr>\n",
        "  </thead>\n",
        "  <tbody>\n",
        "    <tr>\n",
        "      <th>0</th>\n",
        "      <td>  3</td>\n",
        "      <td>        12 and Holding</td>\n",
        "      <td>  6-May</td>\n",
        "      <td>  4-Apr</td>\n",
        "      <td> http://www.imsdb.com//scripts/12-and-Holding.html</td>\n",
        "      <td>        raw_Script/12 and Holding.txt</td>\n",
        "    </tr>\n",
        "    <tr>\n",
        "      <th>1</th>\n",
        "      <td>  5</td>\n",
        "      <td>             127 Hours</td>\n",
        "      <td> 10-Nov</td>\n",
        "      <td>    NaN</td>\n",
        "      <td>      http://www.imsdb.com//scripts/127-Hours.html</td>\n",
        "      <td>             raw_Script/127 Hours.txt</td>\n",
        "    </tr>\n",
        "    <tr>\n",
        "      <th>2</th>\n",
        "      <td>  8</td>\n",
        "      <td>              17 Again</td>\n",
        "      <td>  9-Apr</td>\n",
        "      <td>  7-Oct</td>\n",
        "      <td>       http://www.imsdb.com//scripts/17-Again.html</td>\n",
        "      <td>              raw_Script/17 Again.txt</td>\n",
        "    </tr>\n",
        "    <tr>\n",
        "      <th>3</th>\n",
        "      <td> 10</td>\n",
        "      <td> 2001  A Space Odyssey</td>\n",
        "      <td>    NaN</td>\n",
        "      <td> Feb-89</td>\n",
        "      <td> http://www.imsdb.com//scripts/2001-A-Space-Ody...</td>\n",
        "      <td> raw_Script/2001  A Space Odyssey.txt</td>\n",
        "    </tr>\n",
        "    <tr>\n",
        "      <th>4</th>\n",
        "      <td> 11</td>\n",
        "      <td>                  2012</td>\n",
        "      <td>  9-Nov</td>\n",
        "      <td>  8-Feb</td>\n",
        "      <td>           http://www.imsdb.com//scripts/2012.html</td>\n",
        "      <td>                  raw_Script/2012.txt</td>\n",
        "    </tr>\n",
        "    <tr>\n",
        "      <th>5</th>\n",
        "      <td> 13</td>\n",
        "      <td>    30 Minutes or Less</td>\n",
        "      <td> 11-Aug</td>\n",
        "      <td>  9-Dec</td>\n",
        "      <td> http://www.imsdb.com//scripts/30-Minutes-or-Le...</td>\n",
        "      <td>    raw_Script/30 Minutes or Less.txt</td>\n",
        "    </tr>\n",
        "    <tr>\n",
        "      <th>6</th>\n",
        "      <td> 14</td>\n",
        "      <td>         44 Inch Chest</td>\n",
        "      <td> 10-Jan</td>\n",
        "      <td>    NaN</td>\n",
        "      <td>  http://www.imsdb.com//scripts/44-Inch-Chest.html</td>\n",
        "      <td>         raw_Script/44 Inch Chest.txt</td>\n",
        "    </tr>\n",
        "    <tr>\n",
        "      <th>7</th>\n",
        "      <td> 16</td>\n",
        "      <td>                 50-50</td>\n",
        "      <td> 11-Sep</td>\n",
        "      <td>  8-Jul</td>\n",
        "      <td>          http://www.imsdb.com//scripts/50-50.html</td>\n",
        "      <td>                 raw_Script/50-50.txt</td>\n",
        "    </tr>\n",
        "    <tr>\n",
        "      <th>8</th>\n",
        "      <td> 17</td>\n",
        "      <td>    500 Days of Summer</td>\n",
        "      <td>  9-Jul</td>\n",
        "      <td>    NaN</td>\n",
        "      <td> http://www.imsdb.com//scripts/500-Days-of-Summ...</td>\n",
        "      <td>    raw_Script/500 Days of Summer.txt</td>\n",
        "    </tr>\n",
        "    <tr>\n",
        "      <th>9</th>\n",
        "      <td> 20</td>\n",
        "      <td>                     9</td>\n",
        "      <td>  9-Sep</td>\n",
        "      <td>    NaN</td>\n",
        "      <td>              http://www.imsdb.com//scripts/9.html</td>\n",
        "      <td>                     raw_Script/9.txt</td>\n",
        "    </tr>\n",
        "  </tbody>\n",
        "</table>\n",
        "</div>"
       ],
       "metadata": {},
       "output_type": "pyout",
       "prompt_number": 5,
       "text": [
        "   Script_Id           Script_Title Movie_Release_Date Script_Date  \\\n",
        "0          3         12 and Holding              6-May       4-Apr   \n",
        "1          5              127 Hours             10-Nov         NaN   \n",
        "2          8               17 Again              9-Apr       7-Oct   \n",
        "3         10  2001  A Space Odyssey                NaN      Feb-89   \n",
        "4         11                   2012              9-Nov       8-Feb   \n",
        "5         13     30 Minutes or Less             11-Aug       9-Dec   \n",
        "6         14          44 Inch Chest             10-Jan         NaN   \n",
        "7         16                  50-50             11-Sep       8-Jul   \n",
        "8         17     500 Days of Summer              9-Jul         NaN   \n",
        "9         20                      9              9-Sep         NaN   \n",
        "\n",
        "                                      Raw_Script_URL  \\\n",
        "0  http://www.imsdb.com//scripts/12-and-Holding.html   \n",
        "1       http://www.imsdb.com//scripts/127-Hours.html   \n",
        "2        http://www.imsdb.com//scripts/17-Again.html   \n",
        "3  http://www.imsdb.com//scripts/2001-A-Space-Ody...   \n",
        "4            http://www.imsdb.com//scripts/2012.html   \n",
        "5  http://www.imsdb.com//scripts/30-Minutes-or-Le...   \n",
        "6   http://www.imsdb.com//scripts/44-Inch-Chest.html   \n",
        "7           http://www.imsdb.com//scripts/50-50.html   \n",
        "8  http://www.imsdb.com//scripts/500-Days-of-Summ...   \n",
        "9               http://www.imsdb.com//scripts/9.html   \n",
        "\n",
        "                         Raw_Script_Loc  \n",
        "0         raw_Script/12 and Holding.txt  \n",
        "1              raw_Script/127 Hours.txt  \n",
        "2               raw_Script/17 Again.txt  \n",
        "3  raw_Script/2001  A Space Odyssey.txt  \n",
        "4                   raw_Script/2012.txt  \n",
        "5     raw_Script/30 Minutes or Less.txt  \n",
        "6          raw_Script/44 Inch Chest.txt  \n",
        "7                  raw_Script/50-50.txt  \n",
        "8     raw_Script/500 Days of Summer.txt  \n",
        "9                      raw_Script/9.txt  "
       ]
      }
     ],
     "prompt_number": 5
    },
    {
     "cell_type": "code",
     "collapsed": false,
     "input": [
      "r_df.head(n = 3)"
     ],
     "language": "python",
     "metadata": {},
     "outputs": [
      {
       "html": [
        "<div style=\"max-height:1000px;max-width:1500px;overflow:auto;\">\n",
        "<table border=\"1\" class=\"dataframe\">\n",
        "  <thead>\n",
        "    <tr style=\"text-align: right;\">\n",
        "      <th></th>\n",
        "      <th>Script_Id</th>\n",
        "      <th>Script_Title</th>\n",
        "      <th>rt_title</th>\n",
        "      <th>Movie_Release_Date</th>\n",
        "      <th>Script_Date</th>\n",
        "      <th>rt_id</th>\n",
        "      <th>rt_year</th>\n",
        "      <th>rt_critics_score</th>\n",
        "      <th>rt_audience_score</th>\n",
        "      <th>Clean_Script_Title</th>\n",
        "      <th>title_match</th>\n",
        "    </tr>\n",
        "  </thead>\n",
        "  <tbody>\n",
        "    <tr>\n",
        "      <th>0</th>\n",
        "      <td> 842</td>\n",
        "      <td> Rise of the Planet of the Apes</td>\n",
        "      <td> Rise of the Planet of the Apes</td>\n",
        "      <td> 8/11/2014</td>\n",
        "      <td> 1/10/2014</td>\n",
        "      <td> 771041147</td>\n",
        "      <td> 2011</td>\n",
        "      <td> 82</td>\n",
        "      <td> 77</td>\n",
        "      <td> Rise of the Planet of the Apes</td>\n",
        "      <td> 1</td>\n",
        "    </tr>\n",
        "    <tr>\n",
        "      <th>1</th>\n",
        "      <td> 847</td>\n",
        "      <td>                      Rock, The</td>\n",
        "      <td>                       The Rock</td>\n",
        "      <td>       NaN</td>\n",
        "      <td> 10/1/1995</td>\n",
        "      <td>     12970</td>\n",
        "      <td> 1996</td>\n",
        "      <td> 67</td>\n",
        "      <td> 86</td>\n",
        "      <td>                       The Rock</td>\n",
        "      <td> 1</td>\n",
        "    </tr>\n",
        "    <tr>\n",
        "      <th>2</th>\n",
        "      <td> 851</td>\n",
        "      <td>                 Romeo &amp; Juliet</td>\n",
        "      <td>                 Romeo + Juliet</td>\n",
        "      <td> 11/1/1996</td>\n",
        "      <td> 10/1/1995</td>\n",
        "      <td>     12035</td>\n",
        "      <td> 1996</td>\n",
        "      <td> 72</td>\n",
        "      <td> 78</td>\n",
        "      <td>                 Romeo &amp; Juliet</td>\n",
        "      <td> 1</td>\n",
        "    </tr>\n",
        "  </tbody>\n",
        "</table>\n",
        "</div>"
       ],
       "metadata": {},
       "output_type": "pyout",
       "prompt_number": 6,
       "text": [
        "   Script_Id                    Script_Title                        rt_title  \\\n",
        "0        842  Rise of the Planet of the Apes  Rise of the Planet of the Apes   \n",
        "1        847                       Rock, The                        The Rock   \n",
        "2        851                  Romeo & Juliet                  Romeo + Juliet   \n",
        "\n",
        "  Movie_Release_Date Script_Date      rt_id  rt_year  rt_critics_score  \\\n",
        "0          8/11/2014   1/10/2014  771041147     2011                82   \n",
        "1                NaN   10/1/1995      12970     1996                67   \n",
        "2          11/1/1996   10/1/1995      12035     1996                72   \n",
        "\n",
        "   rt_audience_score              Clean_Script_Title  title_match  \n",
        "0                 77  Rise of the Planet of the Apes            1  \n",
        "1                 86                        The Rock            1  \n",
        "2                 78                  Romeo & Juliet            1  "
       ]
      }
     ],
     "prompt_number": 6
    },
    {
     "cell_type": "code",
     "collapsed": false,
     "input": [
      "names = ['Script_Id', 'rt_title', 'rt_id', 'rt_year', 'rt_critics_score', 'rt_audience_score']\n",
      "r_df = r_df[ names ]"
     ],
     "language": "python",
     "metadata": {},
     "outputs": [],
     "prompt_number": 8
    },
    {
     "cell_type": "code",
     "collapsed": false,
     "input": [
      "r_df"
     ],
     "language": "python",
     "metadata": {},
     "outputs": [
      {
       "html": [
        "<pre>\n",
        "&lt;class 'pandas.core.frame.DataFrame'&gt;\n",
        "Int64Index: 730 entries, 0 to 729\n",
        "Data columns (total 6 columns):\n",
        "Script_Id            730  non-null values\n",
        "rt_title             727  non-null values\n",
        "rt_id                727  non-null values\n",
        "rt_year              727  non-null values\n",
        "rt_critics_score     727  non-null values\n",
        "rt_audience_score    727  non-null values\n",
        "dtypes: float64(4), int64(1), object(1)\n",
        "</pre>"
       ],
       "metadata": {},
       "output_type": "pyout",
       "prompt_number": 9,
       "text": [
        "<class 'pandas.core.frame.DataFrame'>\n",
        "Int64Index: 730 entries, 0 to 729\n",
        "Data columns (total 6 columns):\n",
        "Script_Id            730  non-null values\n",
        "rt_title             727  non-null values\n",
        "rt_id                727  non-null values\n",
        "rt_year              727  non-null values\n",
        "rt_critics_score     727  non-null values\n",
        "rt_audience_score    727  non-null values\n",
        "dtypes: float64(4), int64(1), object(1)"
       ]
      }
     ],
     "prompt_number": 9
    },
    {
     "cell_type": "code",
     "collapsed": false,
     "input": [
      "new_df = pd.merge(left = s_df, right = r_df, on = 'Script_Id')\n",
      "new_df"
     ],
     "language": "python",
     "metadata": {},
     "outputs": [
      {
       "html": [
        "<pre>\n",
        "&lt;class 'pandas.core.frame.DataFrame'&gt;\n",
        "Int64Index: 730 entries, 0 to 729\n",
        "Data columns (total 11 columns):\n",
        "Script_Id             730  non-null values\n",
        "Script_Title          730  non-null values\n",
        "Movie_Release_Date    519  non-null values\n",
        "Script_Date           453  non-null values\n",
        "Raw_Script_URL        730  non-null values\n",
        "Raw_Script_Loc        730  non-null values\n",
        "rt_title              727  non-null values\n",
        "rt_id                 727  non-null values\n",
        "rt_year               727  non-null values\n",
        "rt_critics_score      727  non-null values\n",
        "rt_audience_score     727  non-null values\n",
        "dtypes: float64(4), int64(1), object(6)\n",
        "</pre>"
       ],
       "metadata": {},
       "output_type": "pyout",
       "prompt_number": 10,
       "text": [
        "<class 'pandas.core.frame.DataFrame'>\n",
        "Int64Index: 730 entries, 0 to 729\n",
        "Data columns (total 11 columns):\n",
        "Script_Id             730  non-null values\n",
        "Script_Title          730  non-null values\n",
        "Movie_Release_Date    519  non-null values\n",
        "Script_Date           453  non-null values\n",
        "Raw_Script_URL        730  non-null values\n",
        "Raw_Script_Loc        730  non-null values\n",
        "rt_title              727  non-null values\n",
        "rt_id                 727  non-null values\n",
        "rt_year               727  non-null values\n",
        "rt_critics_score      727  non-null values\n",
        "rt_audience_score     727  non-null values\n",
        "dtypes: float64(4), int64(1), object(6)"
       ]
      }
     ],
     "prompt_number": 10
    },
    {
     "cell_type": "code",
     "collapsed": false,
     "input": [
      "new_df.head()"
     ],
     "language": "python",
     "metadata": {},
     "outputs": [
      {
       "html": [
        "<div style=\"max-height:1000px;max-width:1500px;overflow:auto;\">\n",
        "<table border=\"1\" class=\"dataframe\">\n",
        "  <thead>\n",
        "    <tr style=\"text-align: right;\">\n",
        "      <th></th>\n",
        "      <th>Script_Id</th>\n",
        "      <th>Script_Title</th>\n",
        "      <th>Movie_Release_Date</th>\n",
        "      <th>Script_Date</th>\n",
        "      <th>Raw_Script_URL</th>\n",
        "      <th>Raw_Script_Loc</th>\n",
        "      <th>rt_title</th>\n",
        "      <th>rt_id</th>\n",
        "      <th>rt_year</th>\n",
        "      <th>rt_critics_score</th>\n",
        "      <th>rt_audience_score</th>\n",
        "    </tr>\n",
        "  </thead>\n",
        "  <tbody>\n",
        "    <tr>\n",
        "      <th>0</th>\n",
        "      <td>  3</td>\n",
        "      <td>        12 and Holding</td>\n",
        "      <td>  6-May</td>\n",
        "      <td>  4-Apr</td>\n",
        "      <td> http://www.imsdb.com//scripts/12-and-Holding.html</td>\n",
        "      <td>        raw_Script/12 and Holding.txt</td>\n",
        "      <td> Twelve and Holding (12 and Holding)</td>\n",
        "      <td> 155655015</td>\n",
        "      <td> 2005</td>\n",
        "      <td> 73</td>\n",
        "      <td> 79</td>\n",
        "    </tr>\n",
        "    <tr>\n",
        "      <th>1</th>\n",
        "      <td>  5</td>\n",
        "      <td>             127 Hours</td>\n",
        "      <td> 10-Nov</td>\n",
        "      <td>    NaN</td>\n",
        "      <td>      http://www.imsdb.com//scripts/127-Hours.html</td>\n",
        "      <td>             raw_Script/127 Hours.txt</td>\n",
        "      <td>                           127 Hours</td>\n",
        "      <td> 771028554</td>\n",
        "      <td> 2010</td>\n",
        "      <td> 93</td>\n",
        "      <td> 85</td>\n",
        "    </tr>\n",
        "    <tr>\n",
        "      <th>2</th>\n",
        "      <td>  8</td>\n",
        "      <td>              17 Again</td>\n",
        "      <td>  9-Apr</td>\n",
        "      <td>  7-Oct</td>\n",
        "      <td>       http://www.imsdb.com//scripts/17-Again.html</td>\n",
        "      <td>              raw_Script/17 Again.txt</td>\n",
        "      <td>                            17 Again</td>\n",
        "      <td> 770680214</td>\n",
        "      <td> 2009</td>\n",
        "      <td> 55</td>\n",
        "      <td> 68</td>\n",
        "    </tr>\n",
        "    <tr>\n",
        "      <th>3</th>\n",
        "      <td> 10</td>\n",
        "      <td> 2001  A Space Odyssey</td>\n",
        "      <td>    NaN</td>\n",
        "      <td> Feb-89</td>\n",
        "      <td> http://www.imsdb.com//scripts/2001-A-Space-Ody...</td>\n",
        "      <td> raw_Script/2001  A Space Odyssey.txt</td>\n",
        "      <td>               2001: A Space Odyssey</td>\n",
        "      <td>      9917</td>\n",
        "      <td> 1968</td>\n",
        "      <td> 97</td>\n",
        "      <td> 89</td>\n",
        "    </tr>\n",
        "    <tr>\n",
        "      <th>4</th>\n",
        "      <td> 11</td>\n",
        "      <td>                  2012</td>\n",
        "      <td>  9-Nov</td>\n",
        "      <td>  8-Feb</td>\n",
        "      <td>           http://www.imsdb.com//scripts/2012.html</td>\n",
        "      <td>                  raw_Script/2012.txt</td>\n",
        "      <td>                                2012</td>\n",
        "      <td> 770795544</td>\n",
        "      <td> 2009</td>\n",
        "      <td> 39</td>\n",
        "      <td> 47</td>\n",
        "    </tr>\n",
        "  </tbody>\n",
        "</table>\n",
        "</div>"
       ],
       "metadata": {},
       "output_type": "pyout",
       "prompt_number": 11,
       "text": [
        "   Script_Id           Script_Title Movie_Release_Date Script_Date  \\\n",
        "0          3         12 and Holding              6-May       4-Apr   \n",
        "1          5              127 Hours             10-Nov         NaN   \n",
        "2          8               17 Again              9-Apr       7-Oct   \n",
        "3         10  2001  A Space Odyssey                NaN      Feb-89   \n",
        "4         11                   2012              9-Nov       8-Feb   \n",
        "\n",
        "                                      Raw_Script_URL  \\\n",
        "0  http://www.imsdb.com//scripts/12-and-Holding.html   \n",
        "1       http://www.imsdb.com//scripts/127-Hours.html   \n",
        "2        http://www.imsdb.com//scripts/17-Again.html   \n",
        "3  http://www.imsdb.com//scripts/2001-A-Space-Ody...   \n",
        "4            http://www.imsdb.com//scripts/2012.html   \n",
        "\n",
        "                         Raw_Script_Loc                             rt_title  \\\n",
        "0         raw_Script/12 and Holding.txt  Twelve and Holding (12 and Holding)   \n",
        "1              raw_Script/127 Hours.txt                            127 Hours   \n",
        "2               raw_Script/17 Again.txt                             17 Again   \n",
        "3  raw_Script/2001  A Space Odyssey.txt                2001: A Space Odyssey   \n",
        "4                   raw_Script/2012.txt                                 2012   \n",
        "\n",
        "       rt_id  rt_year  rt_critics_score  rt_audience_score  \n",
        "0  155655015     2005                73                 79  \n",
        "1  771028554     2010                93                 85  \n",
        "2  770680214     2009                55                 68  \n",
        "3       9917     1968                97                 89  \n",
        "4  770795544     2009                39                 47  "
       ]
      }
     ],
     "prompt_number": 11
    },
    {
     "cell_type": "code",
     "collapsed": false,
     "input": [
      "new_df.to_csv('my_new_file.csv', index = False)"
     ],
     "language": "python",
     "metadata": {},
     "outputs": [],
     "prompt_number": 12
    },
    {
     "cell_type": "code",
     "collapsed": false,
     "input": [
      "rotten_year = new_df.rt_year"
     ],
     "language": "python",
     "metadata": {},
     "outputs": [],
     "prompt_number": 13
    },
    {
     "cell_type": "code",
     "collapsed": false,
     "input": [
      "rotten_year.quantile(.25)"
     ],
     "language": "python",
     "metadata": {},
     "outputs": [
      {
       "metadata": {},
       "output_type": "pyout",
       "prompt_number": 14,
       "text": [
        "1994.0"
       ]
      }
     ],
     "prompt_number": 14
    },
    {
     "cell_type": "code",
     "collapsed": false,
     "input": [
      "rotten_year.quantile(.75)"
     ],
     "language": "python",
     "metadata": {},
     "outputs": [
      {
       "metadata": {},
       "output_type": "pyout",
       "prompt_number": 17,
       "text": [
        "2009.0"
       ]
      }
     ],
     "prompt_number": 17
    },
    {
     "cell_type": "code",
     "collapsed": false,
     "input": [
      "rotten_year.min()"
     ],
     "language": "python",
     "metadata": {},
     "outputs": [
      {
       "metadata": {},
       "output_type": "pyout",
       "prompt_number": 18,
       "text": [
        "1928.0"
       ]
      }
     ],
     "prompt_number": 18
    },
    {
     "cell_type": "code",
     "collapsed": false,
     "input": [
      "rotten_year.max()"
     ],
     "language": "python",
     "metadata": {},
     "outputs": [
      {
       "metadata": {},
       "output_type": "pyout",
       "prompt_number": 19,
       "text": [
        "2015.0"
       ]
      }
     ],
     "prompt_number": 19
    },
    {
     "cell_type": "code",
     "collapsed": false,
     "input": [
      "len(rotten_year[rotten_year <= 1980])"
     ],
     "language": "python",
     "metadata": {},
     "outputs": [
      {
       "metadata": {},
       "output_type": "pyout",
       "prompt_number": 29,
       "text": [
        "52"
       ]
      }
     ],
     "prompt_number": 29
    },
    {
     "cell_type": "code",
     "collapsed": false,
     "input": [
      "52.0/730"
     ],
     "language": "python",
     "metadata": {},
     "outputs": [
      {
       "metadata": {},
       "output_type": "pyout",
       "prompt_number": 30,
       "text": [
        "0.07123287671232877"
       ]
      }
     ],
     "prompt_number": 30
    },
    {
     "cell_type": "code",
     "collapsed": false,
     "input": [],
     "language": "python",
     "metadata": {},
     "outputs": []
    }
   ],
   "metadata": {}
  }
 ]
}